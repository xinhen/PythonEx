{
 "cells": [
  {
   "cell_type": "code",
   "execution_count": 27,
   "metadata": {},
   "outputs": [],
   "source": [
    "import multiprocessing as mp\n",
    "import time\n",
    "\n",
    "l=mp.Lock()\n",
    "def func(v,num):\n",
    "    l.acquire()\n",
    "    for _ in range(10):\n",
    "        time.sleep(0.1)\n",
    "        v.value+=num\n",
    "        print(v.value)\n",
    "    l.release()\n",
    "\n",
    "def multicore():\n",
    "    v=mp.Value('i',0)\n",
    "    p1=mp.Process(target=func,args=(v,1))\n",
    "    p2=mp.Process(target=func,args=(v,3))\n",
    "    \n",
    "    p1.start()\n",
    "    p2.start()\n",
    "    \n",
    "    p1.join()\n",
    "    p2.join()\n",
    "    \n",
    "if __name__==\"__main__\":\n",
    "   multicore()\n"
   ]
  },
  {
   "cell_type": "code",
   "execution_count": null,
   "metadata": {},
   "outputs": [],
   "source": []
  },
  {
   "cell_type": "code",
   "execution_count": 21,
   "metadata": {},
   "outputs": [
    {
     "name": "stdout",
     "output_type": "stream",
     "text": [
      "2019-08-27 01:40:00\n",
      "('09:40', datetime.datetime(2019, 8, 27, 9, 40))\n"
     ]
    }
   ],
   "source": [
    "from datetime import datetime,timedelta\n",
    "\n",
    "def timeConvert(utctime):\n",
    "    utcDate=datetime.utcfromtimestamp(utctime)\n",
    "    localtime=utcDate+timedelta(hours=8)\n",
    "    print(utcDate)\n",
    "    lctime=localtime.strftime(\"%H:%M\")\n",
    "    return lctime,localtime\n",
    "\n",
    "print(timeConvert(1566870000))"
   ]
  },
  {
   "cell_type": "code",
   "execution_count": 17,
   "metadata": {},
   "outputs": [
    {
     "name": "stdout",
     "output_type": "stream",
     "text": [
      "{'code': 200, 'isFirstPage': True, 'isLastPage': False, 'list': [{'actualDeptime': 1566863220, 'aircraftNumber': 'B6576', 'airline': 'CZ', 'arrivalTerminal': 'T2', 'departureTerminal': 'T3', 'dstTinezone': 28800, 'estimatedArrtime': 1566869498, 'flightStatusCode': 1, 'fnum': 'CZ8105', 'forceLandingFlag': 0, 'forg': 'CKG', 'forgAptCcity': '重庆', 'forgAptCity': 'Chongqing', 'forgAptCname': '重庆江北', 'forgAptICAO': 'ZUCK', 'forgAptLat': 29.72034, 'forgAptLon': 106.63408, 'forgAptName': 'Chongqing Jiangbei', 'fservice': 'J', 'ftype': 'A320', 'id': '0c01868708558efe303cde5667e821d0', 'orgTinezone': 28800, 'portsOfCall': 0, 'scheduledArrtime': 1566870000, 'scheduledDeptime': 1566862800, 'shareExecuteFlag': 0}, {'actualDeptime': 1566863220, 'aircraftNumber': 'B6576', 'airline': 'OQ', 'arrivalTerminal': 'T2', 'departureTerminal': 'T3', 'dstTinezone': 28800, 'estimatedArrtime': 1566869498, 'flightStatusCode': 1, 'fnum': 'OQ2305', 'forceLandingFlag': 0, 'forg': 'CKG', 'forgAptCcity': '重庆', 'forgAptCity': 'Chongqing', 'forgAptCname': '重庆江北', 'forgAptICAO': 'ZUCK', 'forgAptLat': 29.72034, 'forgAptLon': 106.63408, 'forgAptName': 'Chongqing Jiangbei', 'fservice': 'J', 'ftype': 'A320', 'id': '7e6305a2bf4e1cbef2bcd6b40765f2a8', 'orgTinezone': 28800, 'portsOfCall': 0, 'scheduledArrtime': 1566870000, 'scheduledDeptime': 1566862800, 'shareExecuteFlag': 1, 'shareFlight': 'CZ8105'}, {'actualDeptime': 1566861840, 'aircraftNumber': 'B6900', 'airline': 'EU', 'arrivalTerminal': 'T1B', 'departureTerminal': 'T2', 'dstTinezone': 28800, 'estimatedArrtime': 1566869324, 'flightStatusCode': 1, 'fnum': 'EU2235', 'forceLandingFlag': 0, 'forg': 'CTU', 'forgAptCcity': '成都', 'forgAptCity': 'Chengdu', 'forgAptCname': '成都双流', 'forgAptICAO': 'ZUUU', 'forgAptLat': 30.581135, 'forgAptLon': 103.9568, 'forgAptName': 'ChengDu', 'fservice': 'J', 'ftype': 'A320', 'id': '99b15afc26ce3f0cf05ba52d8aba9e60', 'orgTinezone': 28800, 'portsOfCall': 0, 'scheduledArrtime': 1566870000, 'scheduledDeptime': 1566861300, 'shareExecuteFlag': 0}, {'actualArrtime': 1566868440, 'actualDeptime': 1566861480, 'aircraftNumber': 'B6971', 'airline': '9C', 'arrivalTerminal': 'T1B', 'departureTerminal': 'T1', 'dstTinezone': 28800, 'estimatedArrtime': 1566868200, 'flightStatusCode': 2, 'fnum': '9C8835', 'forceLandingFlag': 0, 'forg': 'SHA', 'forgAptCcity': '上海', 'forgAptCity': 'Shanghai', 'forgAptCname': '上海虹桥', 'forgAptICAO': 'ZSSS', 'forgAptLat': 31.19779, 'forgAptLon': 121.33347, 'forgAptName': 'Shanghai Hongqiao', 'fservice': 'J', 'ftype': 'A320', 'id': 'ba84c48d3d25e730a5c16e47b2483e27', 'orgTinezone': 28800, 'portsOfCall': 0, 'scheduledArrtime': 1566870000, 'scheduledDeptime': 1566861300, 'shareExecuteFlag': 0}, {'actualArrtime': 1566869460, 'actualDeptime': 1566864420, 'aircraftNumber': 'B1585', 'airline': 'MF', 'arrivalTerminal': 'T2', 'departureTerminal': 'T3', 'dstTinezone': 28800, 'estimatedArrtime': 1566869520, 'flightStatusCode': 2, 'fnum': 'MF1532', 'forceLandingFlag': 0, 'forg': 'WUH', 'forgAptCcity': '武汉', 'forgAptCity': 'Wuhan', 'forgAptCname': '武汉天河', 'forgAptICAO': 'ZHHH', 'forgAptLat': 30.776598, 'forgAptLon': 114.209625, 'forgAptName': 'Wuhan Tianhe', 'fservice': 'J', 'ftype': 'B738', 'id': '17c8fb7a10af656a27676c5bf770127b', 'orgTinezone': 28800, 'portsOfCall': 0, 'scheduledArrtime': 1566870300, 'scheduledDeptime': 1566864000, 'shareExecuteFlag': 1, 'shareFlight': 'CZ3368'}, {'actualArrtime': 1566868860, 'actualDeptime': 1566861600, 'aircraftNumber': 'B5859', 'airline': 'ZH', 'arrivalTerminal': 'T1B', 'departureTerminal': 'T2', 'dstTinezone': 28800, 'estimatedArrtime': 1566868560, 'flightStatusCode': 2, 'fnum': 'ZH9832', 'forceLandingFlag': 0, 'forg': 'WUX', 'forgAptCcity': '无锡', 'forgAptCity': 'Wuxi', 'forgAptCname': '无锡硕放', 'forgAptICAO': 'ZSWX', 'forgAptLat': 31.49289, 'forgAptLon': 120.42438, 'forgAptName': 'WuXi', 'fservice': 'J', 'ftype': 'B738', 'id': '1ad31932edf85b5223f2171f7cc7e05e', 'orgTinezone': 28800, 'portsOfCall': 0, 'scheduledArrtime': 1566870300, 'scheduledDeptime': 1566861000, 'shareExecuteFlag': 0}, {'actualArrtime': 1566868860, 'actualDeptime': 1566861600, 'aircraftNumber': 'B5859', 'airline': 'KY', 'arrivalTerminal': 'T1B', 'departureTerminal': 'T2', 'dstTinezone': 28800, 'estimatedArrtime': 1566868560, 'flightStatusCode': 2, 'fnum': 'KY9832', 'forceLandingFlag': 0, 'forg': 'WUX', 'forgAptCcity': '无锡', 'forgAptCity': 'Wuxi', 'forgAptCname': '无锡硕放', 'forgAptICAO': 'ZSWX', 'forgAptLat': 31.49289, 'forgAptLon': 120.42438, 'forgAptName': 'WuXi', 'fservice': 'J', 'ftype': 'B738', 'id': '2cbc2b95eaeb93989ef00ea6bb40b7f4', 'orgTinezone': 28800, 'portsOfCall': 0, 'scheduledArrtime': 1566870300, 'scheduledDeptime': 1566861000, 'shareExecuteFlag': 1, 'shareFlight': 'ZH9832'}, {'actualArrtime': 1566869160, 'actualDeptime': 1566862680, 'aircraftNumber': 'B1292', 'airline': 'CZ', 'arrivalTerminal': 'T1A', 'departureTerminal': 'T2', 'dstTinezone': 28800, 'estimatedArrtime': 1566869160, 'flightStatusCode': 2, 'fnum': 'CZ9204', 'forceLandingFlag': 0, 'forg': 'NKG', 'forgAptCcity': '南京', 'forgAptCity': 'Nanking', 'forgAptCname': '南京禄口', 'forgAptICAO': 'ZSNJ', 'forgAptLat': 31.735737, 'forgAptLon': 118.86652, 'forgAptName': 'Nanjing Lukou', 'fservice': 'J', 'ftype': 'A320', 'id': '9a4482a18edebe06cabc9ea28ee22493', 'orgTinezone': 28800, 'portsOfCall': 0, 'scheduledArrtime': 1566870300, 'scheduledDeptime': 1566862200, 'shareExecuteFlag': 1, 'shareFlight': 'MU2807'}, {'actualArrtime': 1566869460, 'actualDeptime': 1566864420, 'aircraftNumber': 'B1585', 'airline': 'CZ', 'arrivalTerminal': 'T2', 'departureTerminal': 'T3', 'dstTinezone': 28800, 'estimatedArrtime': 1566869520, 'flightStatusCode': 2, 'fnum': 'CZ3368', 'forceLandingFlag': 0, 'forg': 'WUH', 'forgAptCcity': '武汉', 'forgAptCity': 'Wuhan', 'forgAptCname': '武汉天河', 'forgAptICAO': 'ZHHH', 'forgAptLat': 30.776598, 'forgAptLon': 114.209625, 'forgAptName': 'Wuhan Tianhe', 'fservice': 'J', 'ftype': 'B738', 'id': 'e0bb751dd7b82d4e6927946734b1229f', 'orgTinezone': 28800, 'portsOfCall': 0, 'scheduledArrtime': 1566870300, 'scheduledDeptime': 1566864000, 'shareExecuteFlag': 0}, {'actualArrtime': 1566868860, 'actualDeptime': 1566861600, 'aircraftNumber': 'B5859', 'airline': 'CA', 'arrivalTerminal': 'T1B', 'departureTerminal': 'T2', 'dstTinezone': 28800, 'estimatedArrtime': 1566868560, 'flightStatusCode': 2, 'fnum': 'CA3378', 'forceLandingFlag': 0, 'forg': 'WUX', 'forgAptCcity': '无锡', 'forgAptCity': 'Wuxi', 'forgAptCname': '无锡硕放', 'forgAptICAO': 'ZSWX', 'forgAptLat': 31.49289, 'forgAptLon': 120.42438, 'forgAptName': 'WuXi', 'fservice': 'J', 'ftype': 'B738', 'id': 'f23fa5a5a46f61cc12c3193d320df2f3', 'orgTinezone': 28800, 'portsOfCall': 0, 'scheduledArrtime': 1566870300, 'scheduledDeptime': 1566861000, 'shareExecuteFlag': 1, 'shareFlight': 'ZH9832'}, {'actualArrtime': 1566869160, 'actualDeptime': 1566862680, 'aircraftNumber': 'B1292', 'airline': 'MU', 'arrivalTerminal': 'T1A', 'departureTerminal': 'T2', 'dstTinezone': 28800, 'estimatedArrtime': 1566869160, 'flightStatusCode': 2, 'fnum': 'MU2807', 'forceLandingFlag': 0, 'forg': 'NKG', 'forgAptCcity': '南京', 'forgAptCity': 'Nanking', 'forgAptCname': '南京禄口', 'forgAptICAO': 'ZSNJ', 'forgAptLat': 31.735737, 'forgAptLon': 118.86652, 'forgAptName': 'Nanjing Lukou', 'fservice': 'J', 'ftype': 'A320', 'id': 'f3cb61674f85d90b831651530000a669', 'orgTinezone': 28800, 'portsOfCall': 0, 'scheduledArrtime': 1566870300, 'scheduledDeptime': 1566862200, 'shareExecuteFlag': 0}, {'actualDeptime': 1566864120, 'aircraftNumber': 'B301U', 'airline': '3U', 'arrivalTerminal': 'T2', 'dstTinezone': 28800, 'estimatedArrtime': 1566870360, 'estimatedDeptime': 1566863100, 'flightStatusCode': 1, 'fnum': '3U3036', 'forceLandingFlag': 0, 'forg': 'KMG', 'forgAptCcity': '昆明', 'forgAptCity': 'Kunming', 'forgAptCname': '昆明长水', 'forgAptICAO': 'ZPPP', 'forgAptLat': 25.101944, 'forgAptLon': 102.92917, 'forgAptName': 'Kunming Changshui', 'fservice': 'J', 'ftype': 'A321', 'id': '015426c3d544f8a6c02bbc37647a4eff', 'orgTinezone': 28800, 'portsOfCall': 0, 'scheduledArrtime': 1566870600, 'scheduledDeptime': 1566863100, 'shareExecuteFlag': 1, 'shareFlight': 'CZ3420'}, {'actualDeptime': 1566864120, 'aircraftNumber': 'B301U', 'airline': 'CZ', 'arrivalTerminal': 'T2', 'dstTinezone': 28800, 'estimatedArrtime': 1566870360, 'estimatedDeptime': 1566863100, 'flightStatusCode': 1, 'fnum': 'CZ3420', 'forceLandingFlag': 0, 'forg': 'KMG', 'forgAptCcity': '昆明', 'forgAptCity': 'Kunming', 'forgAptCname': '昆明长水', 'forgAptICAO': 'ZPPP', 'forgAptLat': 25.101944, 'forgAptLon': 102.92917, 'forgAptName': 'Kunming Changshui', 'fservice': 'J', 'ftype': 'A321', 'id': '0b83de0fea134e8d5d947b41d3f3a472', 'orgTinezone': 28800, 'portsOfCall': 0, 'scheduledArrtime': 1566870600, 'scheduledDeptime': 1566863100, 'shareExecuteFlag': 0}, {'actualArrtime': 1566869220, 'actualDeptime': 1566859440, 'aircraftNumber': 'B8366', 'airline': 'MU', 'arrivalTerminal': 'T2', 'departureTerminal': 'T2', 'dstTinezone': 28800, 'estimatedArrtime': 1566869460, 'flightStatusCode': 2, 'fnum': 'MU3034', 'forceLandingFlag': 0, 'forg': 'PEK', 'forgAptCcity': '北京', 'forgAptCity': 'Beijing', 'forgAptCname': '北京首都', 'forgAptICAO': 'ZBAA', 'forgAptLat': 40.078537, 'forgAptLon': 116.5871, 'forgAptName': 'Beijing Capital', 'fservice': 'J', 'ftype': 'A333', 'id': '7a09ae245e76cca2e0813a39e5bbbc06', 'orgTinezone': 28800, 'portsOfCall': 0, 'scheduledArrtime': 1566870600, 'scheduledDeptime': 1566858600, 'shareExecuteFlag': 1, 'shareFlight': 'CZ3166'}, {'actualDeptime': 1566864120, 'aircraftNumber': 'B301U', 'airline': 'MF', 'arrivalTerminal': 'T2', 'dstTinezone': 28800, 'estimatedArrtime': 1566870360, 'estimatedDeptime': 1566863100, 'flightStatusCode': 1, 'fnum': 'MF1571', 'forceLandingFlag': 0, 'forg': 'KMG', 'forgAptCcity': '昆明', 'forgAptCity': 'Kunming', 'forgAptCname': '昆明长水', 'forgAptICAO': 'ZPPP', 'forgAptLat': 25.101944, 'forgAptLon': 102.92917, 'forgAptName': 'Kunming Changshui', 'fservice': 'J', 'ftype': 'A321', 'id': '7f1e3e8cc7680ca1d763d89ac09686ef', 'orgTinezone': 28800, 'portsOfCall': 0, 'scheduledArrtime': 1566870600, 'scheduledDeptime': 1566863100, 'shareExecuteFlag': 1, 'shareFlight': 'CZ3420'}], 'msg': 'success', 'pageNum': 1, 'pageSize': 15, 'pages': 82, 'total': 1223}\n"
     ]
    }
   ],
   "source": [
    "import requests\n",
    "from datetime import datetime,timedelta\n",
    "import multiprocessing as mp\n",
    "\n",
    "url='https://adsbapi.variflight.com/adsb/airport/api/arrival?lang=zh_CN&iata=%s&pageSize=15&pageNum=1'\n",
    "\n",
    "headers={\n",
    "            'User-Agent':'Mozilla/5.0 (Windows NT 6.1; WOW64) AppleWebKit/537.36 (KHTML, like Gecko) Chrome/55.0.2883.87 Safari/537.36',\n",
    "            \"Accept\": \"*/*\",\n",
    "            \"Accept-Encoding\": \"gzip, deflate\",\n",
    "            \"Connection\": \"close\",\n",
    "            \"Content-Type\": \"application/x-www-form-urlencoded\"\n",
    "        }\n",
    "StatusCode={'0':u'计划','1':u'起飞','2':u'到达','7':u'无此航班','4':u'延误','21':u'待定'\n",
    "                 '73':u'提前取消'}\n",
    "home_url=url%('CAN')\n",
    "\n",
    "def timeConvert(utctime):\n",
    "    utcDate=datetime.utcfromtimestamp(utctime)\n",
    "    localtime=utcDate+timedelta(hours=8)\n",
    "    lctime=localtime.strftime(\"%H:%M\")\n",
    "    return lctime\n",
    "\n",
    "def getJsonCont(home_url,deptName,):\n",
    "    resp = requests.get(home_url,headers=headers)\n",
    "    result=resp.json()\n",
    "    if result['code']==200:\n",
    "        return result\n",
    "    return ''\n",
    "\n",
    "def parseJsonCont(result):\n",
    "    res_list=[]\n",
    "    for tem in result['list']:\n",
    "        tem_dict={}\n",
    "        tem_dict[u'航班号']=tem['fnum']\n",
    "        tem_dict[u'出发地']=tem[u'forgAptCcity']\n",
    "        tem_dict[u'计划到达']=timeConvert(tem[u'scheduledArrtime'])\n",
    "        if u'actualArrtime' in tem.keys():\n",
    "            tem_dict[u'实际到达']=timeConvert(tem[u'actualArrtime'])\n",
    "        else:\n",
    "            tem_dict[u'实际到达']=timeConvert(tem[u'--:--'])\n",
    "        tem_dict[u'状态']=tem[u'flightStatusCode']\n",
    "        res_list.append(tem_dict)\n",
    "\n",
    "if __name__==\"__main__\":\n",
    "    \n"
   ]
  },
  {
   "cell_type": "code",
   "execution_count": 30,
   "metadata": {},
   "outputs": [
    {
     "name": "stdout",
     "output_type": "stream",
     "text": [
      "{}\n",
      "[0, 1, 2, 3, 4, 5, 6, 7, 8, 9]\n"
     ]
    }
   ],
   "source": [
    "from multiprocessing import Process, Manager\n",
    "\n",
    "def funnc(d, l):\n",
    "    d[1] = '1'\n",
    "    d['2'] = 2\n",
    "    d[0.25] = None\n",
    "    l.reverse()\n",
    "\n",
    "if __name__ == '__main__':\n",
    "    with Manager() as manager:\n",
    "        d = manager.dict()\n",
    "        l = manager.list(range(10))\n",
    "\n",
    "        p = Process(target=funnc, args=(d, l))\n",
    "        p.start()\n",
    "        p.join()\n",
    "\n",
    "        print(d)\n",
    "        print(l)"
   ]
  },
  {
   "cell_type": "code",
   "execution_count": null,
   "metadata": {},
   "outputs": [],
   "source": [
    "from multiprocessing.pool import Pool\n",
    "\n",
    "def f(x):\n",
    "    return x*x\n",
    "\n",
    "if __name__ == '__main__':\n",
    "    with Pool(5) as p:\n",
    "        print(p.map(f, [1, 2, 3]))"
   ]
  },
  {
   "cell_type": "code",
   "execution_count": null,
   "metadata": {},
   "outputs": [],
   "source": []
  }
 ],
 "metadata": {
  "kernelspec": {
   "display_name": "Python 3",
   "language": "python",
   "name": "python3"
  },
  "language_info": {
   "codemirror_mode": {
    "name": "ipython",
    "version": 3
   },
   "file_extension": ".py",
   "mimetype": "text/x-python",
   "name": "python",
   "nbconvert_exporter": "python",
   "pygments_lexer": "ipython3",
   "version": "3.7.3"
  }
 },
 "nbformat": 4,
 "nbformat_minor": 2
}
