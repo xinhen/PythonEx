{
 "cells": [
  {
   "cell_type": "code",
   "execution_count": 8,
   "metadata": {},
   "outputs": [
    {
     "data": {
      "application/vnd.jupyter.widget-view+json": {
       "model_id": "a320069cfa7f41d287084717da335987",
       "version_major": 2,
       "version_minor": 0
      },
      "text/plain": [
       "MapView(layout=Layout(height='400px', width='100%'))"
      ]
     },
     "metadata": {},
     "output_type": "display_data"
    },
    {
     "data": {
      "text/html": [
       "<div class=\"map-static-img-preview-82a78768-597f-4ba7-b3da-e479c9f6578e\"><img src=\"\"></img></div>"
      ],
      "text/plain": [
       "<IPython.core.display.HTML object>"
      ]
     },
     "metadata": {},
     "output_type": "display_data"
    }
   ],
   "source": [
    "from arcgis.gis import GIS\n",
    "from IPython.display import display\n",
    "gis=GIS()\n",
    "gis.map()"
   ]
  },
  {
   "cell_type": "code",
   "execution_count": 9,
   "metadata": {},
   "outputs": [
    {
     "data": {
      "text/html": [
       "<div class=\"item_container\" style=\"height: auto; overflow: hidden; border: 1px solid #cfcfcf; border-radius: 2px; background: #f6fafa; line-height: 1.21429em; padding: 10px;\">\n",
       "                    <div class=\"item_left\" style=\"width: 210px; float: left;\">\n",
       "                       <a href='https://www.arcgis.com/home/item.html?id=5d43c907a2aa4b5d95683d26f7fae5db' target='_blank'>\n",
       "                        <img src='https://www.arcgis.com/sharing/rest//content/items/5d43c907a2aa4b5d95683d26f7fae5db/info/thumbnail/ago_downloaded.png' class=\"itemThumbnail\">\n",
       "                       </a>\n",
       "                    </div>\n",
       "\n",
       "                    <div class=\"item_right\"     style=\"float: none; width: auto; overflow: hidden;\">\n",
       "                        <a href='https://www.arcgis.com/home/item.html?id=5d43c907a2aa4b5d95683d26f7fae5db' target='_blank'><b>東京都西東京市田無駅北口, JPN — 東京都東久留米市南沢４-９-２３</b>\n",
       "                        </a>\n",
       "                        <br/>ルート検索およびルート案内: 東京都西東京市田無駅北口, JPN — 東京都東久留米市南沢４-９-２３<img src='https://www.arcgis.com/home/js/jsapi/esri/css/images/item_type_icons/features16.png' style=\"vertical-align:middle;\">Feature Collection by yu-uchiya\n",
       "                        <br/>Last Modified: 八月 27, 2019\n",
       "                        <br/>0 comments, 16 views\n",
       "                    </div>\n",
       "                </div>\n",
       "                "
      ],
      "text/plain": [
       "<Item title:\"東京都西東京市田無駅北口, JPN — 東京都東久留米市南沢４-９-２３\" type:Feature Collection owner:yu-uchiya>"
      ]
     },
     "metadata": {},
     "output_type": "display_data"
    },
    {
     "data": {
      "text/html": [
       "<div class=\"item_container\" style=\"height: auto; overflow: hidden; border: 1px solid #cfcfcf; border-radius: 2px; background: #f6fafa; line-height: 1.21429em; padding: 10px;\">\n",
       "                    <div class=\"item_left\" style=\"width: 210px; float: left;\">\n",
       "                       <a href='https://www.arcgis.com/home/item.html?id=765aa1f2359a425197d440fbbb6e93b9' target='_blank'>\n",
       "                        <img src='https://www.arcgis.com/sharing/rest//content/items/765aa1f2359a425197d440fbbb6e93b9/info/thumbnail/ago_downloaded.png' class=\"itemThumbnail\">\n",
       "                       </a>\n",
       "                    </div>\n",
       "\n",
       "                    <div class=\"item_right\"     style=\"float: none; width: auto; overflow: hidden;\">\n",
       "                        <a href='https://www.arcgis.com/home/item.html?id=765aa1f2359a425197d440fbbb6e93b9' target='_blank'><b>北京市A级旅游景点分布图</b>\n",
       "                        </a>\n",
       "                        <br/>此地图标注了北京市各区A级旅游景点的分布，以及北京市地铁线路和北京市近期的降雨预测，可作于市民出行的参考之用<img src='https://www.arcgis.com/home/js/jsapi/esri/css/images/item_type_icons/maps16.png' style=\"vertical-align:middle;\">Web Map by yiyayiyayo\n",
       "                        <br/>Last Modified: 十月 14, 2018\n",
       "                        <br/>0 comments, 139 views\n",
       "                    </div>\n",
       "                </div>\n",
       "                "
      ],
      "text/plain": [
       "<Item title:\"北京市A级旅游景点分布图\" type:Web Map owner:yiyayiyayo>"
      ]
     },
     "metadata": {},
     "output_type": "display_data"
    },
    {
     "data": {
      "text/html": [
       "<div class=\"item_container\" style=\"height: auto; overflow: hidden; border: 1px solid #cfcfcf; border-radius: 2px; background: #f6fafa; line-height: 1.21429em; padding: 10px;\">\n",
       "                    <div class=\"item_left\" style=\"width: 210px; float: left;\">\n",
       "                       <a href='https://www.arcgis.com/home/item.html?id=d8aea3d8a97f4566a7d2e25db050b742' target='_blank'>\n",
       "                        <img src='https://www.arcgis.com/sharing/rest//content/items/d8aea3d8a97f4566a7d2e25db050b742/info/thumbnail/ago_downloaded.png' class=\"itemThumbnail\">\n",
       "                       </a>\n",
       "                    </div>\n",
       "\n",
       "                    <div class=\"item_right\"     style=\"float: none; width: auto; overflow: hidden;\">\n",
       "                        <a href='https://www.arcgis.com/home/item.html?id=d8aea3d8a97f4566a7d2e25db050b742' target='_blank'><b>北京市部分旅游景点</b>\n",
       "                        </a>\n",
       "                        <br/>北京位于华北平原西北边缘，古典在于3000多年的悠久历史、850多年的建都史和灿烂文化，北京旅游资源无与伦比，有世界上最大的皇宫紫禁城（故宫）、祭天神庙天坛、皇家花园北海、皇家园林颐和园，还有八达岭、慕田峪长城以及世界上最大的四合院恭王府、明十三陵等名胜古迹。还有大家熟知的天安门广场、人民大会堂、人民英雄纪念碑、以及北京奥运会上举世瞩目的国家体育场（鸟巢）、国家游泳中心（水立方），以及国家大剧院等等。北京既是一座充满古韵的城市，也是一个国际化的大都会。在这里，您既可以徜徉于历史。也可以享受时尚。<img src='https://www.arcgis.com/home/js/jsapi/esri/css/images/item_type_icons/maps16.png' style=\"vertical-align:middle;\">Web Map by sherrydp2\n",
       "                        <br/>Last Modified: 六月 06, 2018\n",
       "                        <br/>0 comments, 2,547 views\n",
       "                    </div>\n",
       "                </div>\n",
       "                "
      ],
      "text/plain": [
       "<Item title:\"北京市部分旅游景点\" type:Web Map owner:sherrydp2>"
      ]
     },
     "metadata": {},
     "output_type": "display_data"
    },
    {
     "data": {
      "text/html": [
       "<div class=\"item_container\" style=\"height: auto; overflow: hidden; border: 1px solid #cfcfcf; border-radius: 2px; background: #f6fafa; line-height: 1.21429em; padding: 10px;\">\n",
       "                    <div class=\"item_left\" style=\"width: 210px; float: left;\">\n",
       "                       <a href='https://www.arcgis.com/home/item.html?id=3bb336efe9124c53808ce6820721f2d4' target='_blank'>\n",
       "                        <img src='https://www.arcgis.com/sharing/rest//content/items/3bb336efe9124c53808ce6820721f2d4/info/thumbnail/thumbnail.png' class=\"itemThumbnail\">\n",
       "                       </a>\n",
       "                    </div>\n",
       "\n",
       "                    <div class=\"item_right\"     style=\"float: none; width: auto; overflow: hidden;\">\n",
       "                        <a href='https://www.arcgis.com/home/item.html?id=3bb336efe9124c53808ce6820721f2d4' target='_blank'><b>北京土地利用</b>\n",
       "                        </a>\n",
       "                        <br/>北京土地利用<img src='https://www.arcgis.com/home/js/jsapi/esri/css/images/item_type_icons/mapimages16.png' style=\"vertical-align:middle;\">Map Image Layer by mahw1022\n",
       "                        <br/>Last Modified: 七月 10, 2017\n",
       "                        <br/>0 comments, 758 views\n",
       "                    </div>\n",
       "                </div>\n",
       "                "
      ],
      "text/plain": [
       "<Item title:\"北京土地利用\" type:Map Image Layer owner:mahw1022>"
      ]
     },
     "metadata": {},
     "output_type": "display_data"
    },
    {
     "data": {
      "text/html": [
       "<div class=\"item_container\" style=\"height: auto; overflow: hidden; border: 1px solid #cfcfcf; border-radius: 2px; background: #f6fafa; line-height: 1.21429em; padding: 10px;\">\n",
       "                    <div class=\"item_left\" style=\"width: 210px; float: left;\">\n",
       "                       <a href='https://www.arcgis.com/home/item.html?id=af4cbb41f0564a249b38e77744017e80' target='_blank'>\n",
       "                        <img src='https://www.arcgis.com/sharing/rest//content/items/af4cbb41f0564a249b38e77744017e80/info/thumbnail/ago_downloaded.png' class=\"itemThumbnail\">\n",
       "                       </a>\n",
       "                    </div>\n",
       "\n",
       "                    <div class=\"item_right\"     style=\"float: none; width: auto; overflow: hidden;\">\n",
       "                        <a href='https://www.arcgis.com/home/item.html?id=af4cbb41f0564a249b38e77744017e80' target='_blank'><b>『東京東北部』五万分一地形圖（Map Warper）</b>\n",
       "                        </a>\n",
       "                        <br/>日本版 Map Warper で配信されている『東京東北部』五万分一地形圖です。<img src='https://www.arcgis.com/home/js/jsapi/esri/css/images/item_type_icons/mapimages16.png' style=\"vertical-align:middle;\">WMS by Esri_JP_Content\n",
       "                        <br/>Last Modified: 四月 13, 2018\n",
       "                        <br/>0 comments, 51 views\n",
       "                    </div>\n",
       "                </div>\n",
       "                "
      ],
      "text/plain": [
       "<Item title:\"『東京東北部』五万分一地形圖（Map Warper）\" type:WMS owner:Esri_JP_Content>"
      ]
     },
     "metadata": {},
     "output_type": "display_data"
    },
    {
     "data": {
      "text/html": [
       "<div class=\"item_container\" style=\"height: auto; overflow: hidden; border: 1px solid #cfcfcf; border-radius: 2px; background: #f6fafa; line-height: 1.21429em; padding: 10px;\">\n",
       "                    <div class=\"item_left\" style=\"width: 210px; float: left;\">\n",
       "                       <a href='https://www.arcgis.com/home/item.html?id=9011b37b670545e298a0ef905d44d279' target='_blank'>\n",
       "                        <img src='https://www.arcgis.com/sharing/rest//content/items/9011b37b670545e298a0ef905d44d279/info/thumbnail/background-image_258x150.jpg' class=\"itemThumbnail\">\n",
       "                       </a>\n",
       "                    </div>\n",
       "\n",
       "                    <div class=\"item_right\"     style=\"float: none; width: auto; overflow: hidden;\">\n",
       "                        <a href='https://www.arcgis.com/home/item.html?id=9011b37b670545e298a0ef905d44d279' target='_blank'><b>图说北京</b>\n",
       "                        </a>\n",
       "                        <br/>A Map Tour of Beijing<img src='https://www.arcgis.com/home/js/jsapi/esri/css/images/item_type_icons/layers16.png' style=\"vertical-align:middle;\">Web Mapping Application by diligentpigdev\n",
       "                        <br/>Last Modified: 七月 09, 2015\n",
       "                        <br/>0 comments, 667 views\n",
       "                    </div>\n",
       "                </div>\n",
       "                "
      ],
      "text/plain": [
       "<Item title:\"图说北京\" type:Web Mapping Application owner:diligentpigdev>"
      ]
     },
     "metadata": {},
     "output_type": "display_data"
    },
    {
     "data": {
      "text/html": [
       "<div class=\"item_container\" style=\"height: auto; overflow: hidden; border: 1px solid #cfcfcf; border-radius: 2px; background: #f6fafa; line-height: 1.21429em; padding: 10px;\">\n",
       "                    <div class=\"item_left\" style=\"width: 210px; float: left;\">\n",
       "                       <a href='https://www.arcgis.com/home/item.html?id=85d77cc1825b4ee5b4f45815773055cb' target='_blank'>\n",
       "                        <img src='https://www.arcgis.com/sharing/rest//content/items/85d77cc1825b4ee5b4f45815773055cb/info/thumbnail/tmb_29_s.png' class=\"itemThumbnail\">\n",
       "                       </a>\n",
       "                    </div>\n",
       "\n",
       "                    <div class=\"item_right\"     style=\"float: none; width: auto; overflow: hidden;\">\n",
       "                        <a href='https://www.arcgis.com/home/item.html?id=85d77cc1825b4ee5b4f45815773055cb' target='_blank'><b>他機関の情報 土地分類基本調査（土地履歴調査）－国土政策局 災害履歴図（水害） 東京地区（東京東北部・東京西北部・東京西南部）　昭和49年以前（地理院タイル）</b>\n",
       "                        </a>\n",
       "                        <br/>国土地理院から提供された他機関の情報_土地分類基本調査（土地履歴調査）－国土政策局_災害履歴図（水害）_東京地区（東京東北部・東京西北部・東京西南部）　昭和49年以前（地理院タイル）で作成した Web マップです。This map features the content provided by the Geospatial Information Authority of Japan (GSI) as a part of the GSI Tiles collection.<img src='https://www.arcgis.com/home/js/jsapi/esri/css/images/item_type_icons/maps16.png' style=\"vertical-align:middle;\">Web Map by Esri_JP_Content\n",
       "                        <br/>Last Modified: 八月 10, 2018\n",
       "                        <br/>0 comments, 22 views\n",
       "                    </div>\n",
       "                </div>\n",
       "                "
      ],
      "text/plain": [
       "<Item title:\"他機関の情報 土地分類基本調査（土地履歴調査）－国土政策局 災害履歴図（水害） 東京地区（東京東北部・東京西北部・東京西南部）　昭和49年以前（地理院タイル）\" type:Web Map owner:Esri_JP_Content>"
      ]
     },
     "metadata": {},
     "output_type": "display_data"
    },
    {
     "data": {
      "text/html": [
       "<div class=\"item_container\" style=\"height: auto; overflow: hidden; border: 1px solid #cfcfcf; border-radius: 2px; background: #f6fafa; line-height: 1.21429em; padding: 10px;\">\n",
       "                    <div class=\"item_left\" style=\"width: 210px; float: left;\">\n",
       "                       <a href='https://www.arcgis.com/home/item.html?id=e2ff2bd4d217464688d8407b8c1c73eb' target='_blank'>\n",
       "                        <img src='https://www.arcgis.com/sharing/rest//content/items/e2ff2bd4d217464688d8407b8c1c73eb/info/thumbnail/ago_downloaded.png' class=\"itemThumbnail\">\n",
       "                       </a>\n",
       "                    </div>\n",
       "\n",
       "                    <div class=\"item_right\"     style=\"float: none; width: auto; overflow: hidden;\">\n",
       "                        <a href='https://www.arcgis.com/home/item.html?id=e2ff2bd4d217464688d8407b8c1c73eb' target='_blank'><b>北京-gray</b>\n",
       "                        </a>\n",
       "                        <br/>北京-gray<img src='https://www.arcgis.com/home/js/jsapi/esri/css/images/item_type_icons/maps16.png' style=\"vertical-align:middle;\">Web Map by esrigaojie\n",
       "                        <br/>Last Modified: 十月 09, 2013\n",
       "                        <br/>0 comments, 8,822 views\n",
       "                    </div>\n",
       "                </div>\n",
       "                "
      ],
      "text/plain": [
       "<Item title:\"北京-gray\" type:Web Map owner:esrigaojie>"
      ]
     },
     "metadata": {},
     "output_type": "display_data"
    },
    {
     "data": {
      "text/html": [
       "<div class=\"item_container\" style=\"height: auto; overflow: hidden; border: 1px solid #cfcfcf; border-radius: 2px; background: #f6fafa; line-height: 1.21429em; padding: 10px;\">\n",
       "                    <div class=\"item_left\" style=\"width: 210px; float: left;\">\n",
       "                       <a href='https://www.arcgis.com/home/item.html?id=4579af10e4334427b85a42d1b3e11888' target='_blank'>\n",
       "                        <img src='https://www.arcgis.com/sharing/rest//content/items/4579af10e4334427b85a42d1b3e11888/info/thumbnail/ago_downloaded.png' class=\"itemThumbnail\">\n",
       "                       </a>\n",
       "                    </div>\n",
       "\n",
       "                    <div class=\"item_right\"     style=\"float: none; width: auto; overflow: hidden;\">\n",
       "                        <a href='https://www.arcgis.com/home/item.html?id=4579af10e4334427b85a42d1b3e11888' target='_blank'><b>北京基础地图</b>\n",
       "                        </a>\n",
       "                        <br/><img src='https://www.arcgis.com/home/js/jsapi/esri/css/images/item_type_icons/mapimages16.png' style=\"vertical-align:middle;\">Map Image Layer by dongxf_IRPD\n",
       "                        <br/>Last Modified: 十二月 25, 2012\n",
       "                        <br/>0 comments, 1,491 views\n",
       "                    </div>\n",
       "                </div>\n",
       "                "
      ],
      "text/plain": [
       "<Item title:\"北京基础地图\" type:Map Image Layer owner:dongxf_IRPD>"
      ]
     },
     "metadata": {},
     "output_type": "display_data"
    },
    {
     "data": {
      "text/html": [
       "<div class=\"item_container\" style=\"height: auto; overflow: hidden; border: 1px solid #cfcfcf; border-radius: 2px; background: #f6fafa; line-height: 1.21429em; padding: 10px;\">\n",
       "                    <div class=\"item_left\" style=\"width: 210px; float: left;\">\n",
       "                       <a href='https://www.arcgis.com/home/item.html?id=ff25366d762e4b16a4689817530440dd' target='_blank'>\n",
       "                        <img src='https://www.arcgis.com/sharing/rest//content/items/ff25366d762e4b16a4689817530440dd/info/thumbnail/thumbnail.png' class=\"itemThumbnail\">\n",
       "                       </a>\n",
       "                    </div>\n",
       "\n",
       "                    <div class=\"item_right\"     style=\"float: none; width: auto; overflow: hidden;\">\n",
       "                        <a href='https://www.arcgis.com/home/item.html?id=ff25366d762e4b16a4689817530440dd' target='_blank'><b>北京案件信息区域分析</b>\n",
       "                        </a>\n",
       "                        <br/>北京案件信息区域分析<img src='https://www.arcgis.com/home/js/jsapi/esri/css/images/item_type_icons/featureshosted16.png' style=\"vertical-align:middle;\">Feature Layer Collection by allenlu2008ZF\n",
       "                        <br/>Last Modified: 十二月 04, 2012\n",
       "                        <br/>0 comments, 560 views\n",
       "                    </div>\n",
       "                </div>\n",
       "                "
      ],
      "text/plain": [
       "<Item title:\"北京案件信息区域分析\" type:Feature Layer Collection owner:allenlu2008ZF>"
      ]
     },
     "metadata": {},
     "output_type": "display_data"
    }
   ],
   "source": [
    "items=gis.content.search('北京')\n",
    "for item in items:\n",
    "    display(item)"
   ]
  }
 ],
 "metadata": {
  "kernelspec": {
   "display_name": "Python 3",
   "language": "python",
   "name": "python3"
  },
  "language_info": {
   "codemirror_mode": {
    "name": "ipython",
    "version": 3
   },
   "file_extension": ".py",
   "mimetype": "text/x-python",
   "name": "python",
   "nbconvert_exporter": "python",
   "pygments_lexer": "ipython3",
   "version": "3.7.3"
  }
 },
 "nbformat": 4,
 "nbformat_minor": 2
}
